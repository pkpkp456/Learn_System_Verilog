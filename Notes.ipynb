{
 "cells": [
  {
   "cell_type": "markdown",
   "id": "97f5a979",
   "metadata": {},
   "source": [
    "**Functions In SV**"
   ]
  },
  {
   "cell_type": "code",
   "execution_count": null,
   "id": "f135c607",
   "metadata": {
    "vscode": {
     "languageId": "plaintext"
    }
   },
   "outputs": [],
   "source": [
    "// Code your testbench here\n",
    "// or browse Examplesmo\n",
    "module tb;\n",
    "  function bit[5:0] add(input bit [4:0] a,b);\n",
    "    return a+b;\n",
    "    endfunction\n",
    "    bit [5:0] hiii;\n",
    "    initial begin\n",
    "      hiii =add(5'b00010,5'b00110);\n",
    "      $display(\"Values is =%0d\",hiii);\n",
    "    end\n",
    "    endmodule"
   ]
  },
  {
   "cell_type": "markdown",
   "id": "e479de0d",
   "metadata": {},
   "source": [
    "We Can Create Functions As We Did in the C..It Follows The Same Syntax \n",
    "\n",
    "This is the way we can create functions...we can do it with or without arguements and everything is just like that only ..\n",
    "we can also use display and other commands also in creating them...it can be easily called as in c.\n",
    "Timing Functions Are Not Allowded...    "
   ]
  },
  {
   "cell_type": "markdown",
   "id": "86324de9",
   "metadata": {},
   "source": [
    "**Tasks In SV**"
   ]
  },
  {
   "cell_type": "markdown",
   "id": "0493d837",
   "metadata": {},
   "source": [
    "The Tasks Have The Additional Future Of Timing Control...\n",
    "It is Widely used i  Testbench as we can wait for something to happen...we can build logic in there also .."
   ]
  },
  {
   "cell_type": "markdown",
   "id": "0502177f",
   "metadata": {},
   "source": [
    "Sequential elements are also used very well in here ...\n",
    "And We Can use $urandom() Function to generate random values and we can test the dut...\n",
    "$urandom_range(x,y);"
   ]
  },
  {
   "cell_type": "code",
   "execution_count": null,
   "id": "fc3e810c",
   "metadata": {
    "vscode": {
     "languageId": "markdown"
    }
   },
   "outputs": [],
   "source": [
    "We can Pass the values in two ways one is pass by value and other is pass by reference"
   ]
  },
  {
   "cell_type": "markdown",
   "id": "5691245f",
   "metadata": {},
   "source": [
    "**Pass By Value**"
   ]
  },
  {
   "cell_type": "markdown",
   "id": "b6143147",
   "metadata": {},
   "source": [
    "It doesn't change the original variables characteristics..\n",
    "It creates a local copy of the arguement."
   ]
  },
  {
   "cell_type": "markdown",
   "id": "c9584dd6",
   "metadata": {},
   "source": [
    "**Pass By Reference**"
   ]
  },
  {
   "cell_type": "markdown",
   "id": "eb512cc2",
   "metadata": {},
   "source": [
    "It will change the original values...\n",
    "\n",
    "In arrays we use this one...\n",
    "For Changine we use ref array[];(Changed by processeding)\n",
    "but constant after updating also we use const ref array[];(Never changed by anything)\n"
   ]
  },
  {
   "cell_type": "markdown",
   "id": "34da0182",
   "metadata": {},
   "source": [
    "**Using arrays In Functions**"
   ]
  },
  {
   "cell_type": "markdown",
   "id": "e21a9ee9",
   "metadata": {},
   "source": [
    "We Need To Use The Keyword automate when ur using ref in functions and we can create it as \n",
    " "
   ]
  },
  {
   "cell_type": "code",
   "execution_count": null,
   "id": "5834ff57",
   "metadata": {
    "vscode": {
     "languageId": "markdown"
    }
   },
   "outputs": [],
   "source": [
    "function automate name (ref datatype[size] name[sizepf array]);"
   ]
  },
  {
   "cell_type": "markdown",
   "id": "54646d6e",
   "metadata": {},
   "source": [
    "Arrays can be printed and assigned using the for loops      "
   ]
  },
  {
   "cell_type": "code",
   "execution_count": null,
   "id": "3a3194b1",
   "metadata": {
    "vscode": {
     "languageId": "markdown"
    }
   },
   "outputs": [],
   "source": [
    "// Code your testbench here\n",
    "// or browse Examples\n",
    "module tb;\n",
    "  bit[3:0] array[16];\n",
    "  function automatic void array_in(ref bit[3:0] a[16]);\n",
    "    for(int i=0;i<=15;i++) begin\n",
    "      a[i]=i;\n",
    "    end\n",
    "  endfunction\n",
    "    initial begin\n",
    "    $dumpfile(\"waveform.vcd\");    // Output VCD file\n",
    "    $dumpvars(0, tb);\n",
    "  end\n",
    "  initial begin\n",
    "    int i;\n",
    "    array_in(array);\n",
    "    for(i=0;i<=15;i++) begin\n",
    "    $display(\"array[%0d]=%0d\",i,array[i]);\n",
    "    end\n",
    "  end\n",
    "\n",
    "endmodule"
   ]
  },
  {
   "cell_type": "markdown",
   "id": "30145c80",
   "metadata": {},
   "source": [
    "**Custom Constructer**"
   ]
  },
  {
   "cell_type": "markdown",
   "id": "7c96aafa",
   "metadata": {},
   "source": [
    "We Can Create Custom Constructer Using Functions..."
   ]
  },
  {
   "cell_type": "markdown",
   "id": "4f2be11d",
   "metadata": {},
   "source": [
    "It Won't Return Any value But Still We Cannot Use Void In That ...Consider It As A Special Case Of Function"
   ]
  },
  {
   "cell_type": "code",
   "execution_count": null,
   "id": "8db0ce7e",
   "metadata": {
    "vscode": {
     "languageId": "markdown"
    }
   },
   "outputs": [],
   "source": [
    "class thiss;\n",
    "int data;\n",
    "function new(input int datain=0);\n",
    "data=datain;\n",
    "endfunction\n",
    "module tb;\n",
    "thiss hii;\n",
    "intial begin\n",
    "hii=new(52);\n",
    "$display(\"hii=%d\",hii.data);\n",
    "end\n",
    "endmodule \n",
    "\n"
   ]
  },
  {
   "cell_type": "markdown",
   "id": "4bceb8a6",
   "metadata": {},
   "source": [
    "**This In Functions**"
   ]
  },
  {
   "cell_type": "markdown",
   "id": "dfbddc19",
   "metadata": {},
   "source": [
    "We Can Use the same name for both data members and arguements and they can assigned using this keyword ."
   ]
  },
  {
   "cell_type": "code",
   "execution_count": null,
   "id": "d3df42a9",
   "metadata": {
    "vscode": {
     "languageId": "plaintext"
    }
   },
   "outputs": [],
   "source": [
    "//Basic Code For This Keyword In Functions\n",
    "class thiss;\n",
    "int data1;\n",
    "bit[7:0] data2;\n",
    "shortint data3;\n",
    "function new(input int data1=0,input bit[7:0] data2=8'h00,input shortint data3=0);\n",
    "this.data1=data1;\n",
    "this.data2=data2;\n",
    "this.data3=data3;\n",
    "endfunction \n",
    "\n"
   ]
  },
  {
   "cell_type": "markdown",
   "id": "3b2714a8",
   "metadata": {},
   "source": [
    "We Can Assign Values Using Position As Shown In Below Example"
   ]
  },
  {
   "cell_type": "markdown",
   "id": "43e2ecb6",
   "metadata": {},
   "source": [
    "//Basic Code For This Keyword In Functions  By Position\n",
    "class thiss;\n",
    "int data1;\n",
    "bit[7:0] data2;\n",
    "shortint data3;\n",
    "function new(input int data1=0,input bit[7:0] data2=8'h00,input shortint data3=0);\n",
    "this.data1=data1;\n",
    "this.data2=data2;\n",
    "this.data3=data3;\n",
    "endfunction \n",
    "module tb;\n",
    "thiss first;\n",
    "initial begin \n",
    "first=new(25,54,56);\n",
    "$display(\"Data1=%0d,Data2=%0d,Data3=%0d\",first.data1,first.data2,first.data3);\n",
    "end\n",
    "endmodule\n",
    "\n",
    "\n"
   ]
  },
  {
   "cell_type": "markdown",
   "id": "53b23baa",
   "metadata": {},
   "source": [
    "***Using . Reference***"
   ]
  },
  {
   "cell_type": "markdown",
   "id": "a3928edc",
   "metadata": {},
   "source": [
    "//Basic Code For This Keyword In Functions  By Position\n",
    "module tb;\n",
    "int data1;\n",
    "bit[7:0] data2;\n",
    "shortint data3;\n",
    "function new(input int data1=0,input bit[7:0] data2=8'h00,input shortint data3=0);\n",
    "this.data1=data1;\n",
    "this.data2=data2;\n",
    "this.data3=data3;\n",
    "endfunction \n",
    "initial begin \n",
    "first=new(.data3(23),.data2(12),.data1(21));\n",
    "$display(\"Data1=%0d,Data2=%0d,Data3=%0d\",first.data1,first.data2,first.data3);\n",
    "end\n",
    "endmodule\n",
    "\n",
    "\n"
   ]
  },
  {
   "cell_type": "markdown",
   "id": "13ddc1b0",
   "metadata": {},
   "source": [
    "Assume the class consists of three 8-bit data members a, b, and c. Create a Custom Constructor that allows the user to update the value of these data members while adding a constructor to the class. Test your code by adding the value of 2, 4, and 56 to a, b and c respectively."
   ]
  },
  {
   "cell_type": "code",
   "execution_count": null,
   "id": "80c1a278",
   "metadata": {
    "vscode": {
     "languageId": "plaintext"
    }
   },
   "outputs": [],
   "source": [
    "//Example Code\n",
    "class thiss;\n",
    "bit[7:0] a;\n",
    "bit[7:0] b;\n",
    "bit[7:0] c;\n",
    "function task(input bit[7:0]a,b,c);\n",
    "this.a=a;\n",
    "this.b=b;\n",
    "this.c=c;\n",
    "endfunction\n",
    "module tb;\n",
    "thiss hii;\n",
    "initial begin\n",
    "hii=task(2,4,56);\n",
    "hii=task(.a(2),.c(56),.b(4));\n",
    "$display(\"a=%0d,b=%0d,c=%0d\",first.a,first.b,first.c);\n",
    "end\n",
    "endmodule\n",
    "\n"
   ]
  },
  {
   "cell_type": "markdown",
   "id": "d4269cb7",
   "metadata": {},
   "source": [
    "**Using Tasks With Functions**\n"
   ]
  },
  {
   "cell_type": "markdown",
   "id": "823aa984",
   "metadata": {},
   "source": [
    "Basic Example With Display"
   ]
  },
  {
   "cell_type": "code",
   "execution_count": null,
   "id": "39c0856e",
   "metadata": {
    "vscode": {
     "languageId": "plaintext"
    }
   },
   "outputs": [],
   "source": [
    "//Example Code\n",
    "class thiss;\n",
    "bit[7:0] a;\n",
    "bit[7:0] b;\n",
    "bit[7:0] c;\n",
    "function task(input bit[7:0]a,b,c);\n",
    "this.a=a;\n",
    "this.b=b;\n",
    "this.c=c;\n",
    "endfunction\n",
    "task display();\n",
    "$display(\"a=%0d,b=%0d,c=%0d\",first.a,first.b,first.c);\n",
    "endtask\n",
    "module tb;\n",
    "thiss hii;\n",
    "initial begin\n",
    "hii=task(2,4,56);\n",
    "hii=task(.a(2),.c(56),.b(4));\n",
    "thiss.display();\n",
    "end\n",
    "endmodule"
   ]
  },
  {
   "cell_type": "markdown",
   "id": "0e674903",
   "metadata": {},
   "source": [
    "Assume class consists of three data members a, b, and c each of size 4-bit. Create a task inside the class that returns the result of the addition of data members. The task must also be capable of sending the value of a, b, c, and result to the console. Verify code for a = 1, b = 2, and c = 4."
   ]
  },
  {
   "cell_type": "code",
   "execution_count": null,
   "id": "d699e2e5",
   "metadata": {
    "vscode": {
     "languageId": "plaintext"
    }
   },
   "outputs": [],
   "source": [
    "//Example Code\n",
    "class thiss;\n",
    "bit[3:0] a;\n",
    "bit[3:0] b;\n",
    "bit[3:0] c;\n",
    "function task(input bit[7:0]a,b,c);\n",
    "this.a=a;\n",
    "this.b=b;\n",
    "this.c=c;\n",
    "endfunction\n",
    "task display();\n",
    "int sum=a+b+c;\n",
    "$display(\"a+b+c=%0d+%0d+%0d=%0d\",a,b,c,sum);\n",
    "endtask\n",
    "module tb;\n",
    "thiss hii;\n",
    "initial begin\n",
    "hii=task(2,4,56);\n",
    "hii=task(.a(2),.c(56),.b(4));\n",
    "thiss.display();\n",
    "end\n",
    "endmodule"
   ]
  },
  {
   "cell_type": "markdown",
   "id": "80cdcaf0",
   "metadata": {},
   "source": [
    "**Classes In Classes**"
   ]
  },
  {
   "cell_type": "markdown",
   "id": "45e1774d",
   "metadata": {},
   "source": [
    "We Can Use Classes In Other Classes Also And The Data Members And Function Are Also Shared To It...\n",
    "It Can Be Accessed Using The Same Dot Method.. \n",
    "To Use A Class In A Class We Need To Add A Contructer Otherwise We Cannot Use Them."
   ]
  },
  {
   "cell_type": "code",
   "execution_count": null,
   "id": "0aeea2f4",
   "metadata": {
    "vscode": {
     "languageId": "plaintext"
    }
   },
   "outputs": [],
   "source": [
    "//Basic Example For Class In Class\n",
    "class first;\n",
    "int data=10;\n",
    "task display();\n",
    "$display(\"Data=%0d\",data);\n",
    "endtask\n",
    "endclass\n",
    "class second;\n",
    "first f1;\n",
    "function new(); //We need to add a constructer when we use a class in class\n",
    "f1=new();\n",
    "endfunction\n",
    "module tb;\n",
    "second f2;\n",
    "initial begin\n",
    "f2=new();\n",
    "$display(\"Data=%0d\",f2.f1.data);//To Access Data Members\n",
    "f2.f1.display();\n",
    "f2.f1.data=45;\n",
    "f2.f1.display();\n",
    "end\n",
    "endmodule"
   ]
  },
  {
   "cell_type": "markdown",
   "id": "fc02f468",
   "metadata": {},
   "source": [
    "**Scope Of The Variables**"
   ]
  },
  {
   "cell_type": "markdown",
   "id": "d58c55ec",
   "metadata": {},
   "source": [
    "We  Can Restrict The To That Function Only Using The Keyword local and to access in other classes we can create seperate methods for it to access."
   ]
  },
  {
   "cell_type": "code",
   "execution_count": null,
   "id": "b5f347b0",
   "metadata": {
    "vscode": {
     "languageId": "plaintext"
    }
   },
   "outputs": [],
   "source": [
    "//Basic Code With Methods\n",
    "//Basic Example For Class In Class\n",
    "class first;\n",
    "local int data=10;\n",
    "task set(input int data);\n",
    "this.data=data;\n",
    "endtask\n",
    "function int get();\n",
    "return data;\n",
    "endfunction\n",
    "task display();\n",
    "$display(\"Data=%0d\",data);\n",
    "endtask\n",
    "endclass\n",
    "class second;\n",
    "first f1;\n",
    "function new();\n",
    "f1=new();\n",
    "endfunction\n",
    "module tb;\n",
    "second f2;\n",
    "initial begin\n",
    "f2=new();\n",
    "$display(\"Data=%0d\",f2.f1.get());//To Access Data Members\n",
    "f2.f1.display();\n",
    "f2.f1.set(45);\n",
    "f2.f1.get();\n",
    "f2.f1.display();\n",
    "end \n",
    "endmodule"
   ]
  },
  {
   "cell_type": "markdown",
   "id": "47221424",
   "metadata": {},
   "source": [
    "**Copying A Class**"
   ]
  },
  {
   "cell_type": "markdown",
   "id": "30e31ae4",
   "metadata": {},
   "source": [
    "Wr can copy a class so that the original data is not changed ..To Keep the original values as same .."
   ]
  },
  {
   "cell_type": "code",
   "execution_count": null,
   "id": "e7e7b3dc",
   "metadata": {
    "vscode": {
     "languageId": "plaintext"
    }
   },
   "outputs": [],
   "source": [
    "///Example For Copying a class in custom method\n",
    "//Basic Code With Methods\n",
    "//Basic Example For Class In Class\n",
    "class first;//Taking This Class \n",
    " int data=10;\n",
    "endfunction\n",
    "module tb;\n",
    "first f1;\n",
    "first p1;\n",
    "initial begin\n",
    "f1=new();\n",
    "p1 = new f1;//Here p1 is the copied data \n",
    "$display(\"Data=%0d\",f1.data);//To Access Data Members\n",
    "f1.data=76;\n",
    "$display(\"Data=%0d\",f1.data);\n",
    "$display(\"Data p1=%0d\",p1.data);\n",
    "p1.data=98;\n",
    "$display(\"Data=%0d\",f1.data);\n",
    "$display(\"Data p1=%0d\",p1.data);\n",
    "end \n",
    "endmodule"
   ]
  },
  {
   "cell_type": "markdown",
   "id": "dd579be4",
   "metadata": {},
   "source": [
    "**Stratagies To Copy**"
   ]
  },
  {
   "cell_type": "markdown",
   "id": "1130b6ec",
   "metadata": {},
   "source": [
    "We Can Copy The Data In These Ways ..\n",
    "If We Have Fewer Data Variables We Can Create A Method To Copy The Class.Which Is Knows As Custom Method.\n",
    "If We Have Larger Data(Classes In Class) We Can Use The **Deep Copy** And **Shallow Copy** ."
   ]
  },
  {
   "cell_type": "markdown",
   "id": "63921fb1",
   "metadata": {},
   "source": [
    "**Custom Method**"
   ]
  },
  {
   "cell_type": "code",
   "execution_count": null,
   "id": "18d48d38",
   "metadata": {
    "vscode": {
     "languageId": "plaintext"
    }
   },
   "outputs": [],
   "source": [
    "// Copying a class in custom method\n",
    "class first;//Taking This Class \n",
    " int data=10;\n",
    " int data2=7;\n",
    " function first copy(); //Our Custom Method For The Copy\n",
    " copy =new();\n",
    " copy.data=data;\n",
    " copy.data2=data2;\n",
    "endfunction\n",
    "module tb;\n",
    "first f1;\n",
    "first p1;\n",
    "initial begin\n",
    "f1=new();\n",
    "p1=new();\n",
    "p1=f1.copy();//Place Where We Copy Our Code\n",
    "$display(\"Data p1=%0d\",p1.data);\n",
    "$display(\"Data p1=%0d\",p1.data2);\n",
    "end \n",
    "endmodule"
   ]
  },
  {
   "cell_type": "markdown",
   "id": "54b1dec6",
   "metadata": {},
   "source": [
    "**Shallow Copy**"
   ]
  },
  {
   "cell_type": "markdown",
   "id": "c5eae196",
   "metadata": {},
   "source": [
    "In Shallow Copy We Will Have Two Things To Copy ...One Is The Data Members(DM) And Other Is The Class.\n",
    "In Shallow Copy The Class Is Not Copied But It's **Handler** Is Copied So If We Do Changes It Will Be Reflected In The Original Data."
   ]
  },
  {
   "cell_type": "code",
   "execution_count": null,
   "id": "c6033800",
   "metadata": {
    "vscode": {
     "languageId": "plaintext"
    }
   },
   "outputs": [],
   "source": [
    "//Shallow Copy Example\n",
    "///Example For Copying a class in custom method\n",
    "//Basic Code With Methods\n",
    "//Basic Example For Class In Class\n",
    "class first;//Taking This Class \n",
    " int data=10;\n",
    "endfunction\n",
    "class second;\n",
    "first f1class;\n",
    "function new();\n",
    "f1class=new();\n",
    "endfunction\n",
    "module tb;\n",
    "second f1;\n",
    "second f2;\n",
    "initial begin\n",
    "f1=new();\n",
    "p1 = new f1;//Here p1 is the copied data \n",
    "$display(\"Data=%0d\",f1.f1class.data);//To Access Data Members\n",
    "f1.f1class.data=76;\n",
    "$display(\"Data=%0d\",f1.f1class.dataa);\n",
    "$display(\"Data p1=%0d\",p1.f1class.data);\n",
    "p1.f1class.data=98;\n",
    "$display(\"Data=%0d\",f1.f1class.data);//Here It Is Changed to 98\n",
    "$display(\"Data p1=%0d\",p1.f1class.data);\n",
    "end \n",
    "endmodule"
   ]
  },
  {
   "cell_type": "markdown",
   "id": "e326496c",
   "metadata": {},
   "source": [
    "**Deep Copy**"
   ]
  },
  {
   "cell_type": "markdown",
   "id": "a72b221b",
   "metadata": {},
   "source": [
    "In Deep Copy Both The Class Instance And Also Data Members Are Copied Correctly Unlike the Shallow Copy.\n",
    "\n",
    "Here We Use Custom Method And Creates A Function To Copy The Class.\n",
    "Then We Will Copy Both Of Them In The Second Class.\n"
   ]
  },
  {
   "cell_type": "code",
   "execution_count": null,
   "id": "3fc1924e",
   "metadata": {
    "vscode": {
     "languageId": "plaintext"
    }
   },
   "outputs": [],
   "source": [
    "class first;\n",
    "int ds1=1;\n",
    "function first copy();\n",
    "copy=new();\n",
    "copy.ds1=ds1;\n",
    "endfunction\n",
    "endclass\n",
    "class second;\n",
    "first f1;\n",
    "int ds2=5;\n",
    "function second copy();\n",
    "copy=new();\n",
    "copy.ds2=ds2;\n",
    "copy.f1=f1.copy;\n",
    "endfunction\n",
    "endclass\n",
    "module tb;\n",
    "second s1,s2;\n",
    "initial begin\n",
    "s1=new();\n",
    "s2=new();\n",
    "s2=s1.copy();//He We Have Copied Both The Class And Data Members\n",
    "$display(\"ds1=%0d and ds2=%0d\",s1.f1.ds1,s1.ds2);\n",
    "s1.f1.ds1=45;\n",
    "s1.ds2=43;\n",
    "$display(\"ds1=%0d and ds2=%0d\",s2.f1.ds1,s2.ds2);\n",
    "s2.f1.ds1=22;\n",
    "s2.ds2=12;\n",
    "$display(\"ds1=%0d and ds2=%0d\",s1.f1.ds1,s1.ds2);\n",
    "end\n",
    "endmodule\n",
    "\n",
    "\n",
    "\n"
   ]
  },
  {
   "cell_type": "markdown",
   "id": "3b412188",
   "metadata": {},
   "source": [
    "Create a deep copy of the Generator class. To verify the deep copy code assign value of the copy method to another instance of the generator class in TB top. Print the value of data members in the generator class as well as copied class. Refer Instruction tab for Generator class code."
   ]
  },
  {
   "cell_type": "code",
   "execution_count": null,
   "id": "1bb9a1f8",
   "metadata": {
    "vscode": {
     "languageId": "plaintext"
    }
   },
   "outputs": [],
   "source": [
    "class generator;\n",
    "  \n",
    "  bit [3:0] a = 5,b =7;\n",
    "  bit wr = 1;\n",
    "  bit en = 1;\n",
    "  bit [4:0] s = 12;\n",
    "  \n",
    "  function void display();\n",
    "    $display(\"a:%0d b:%0d wr:%0b en:%0b s:%0d\", a,b,wr,en,s);\n",
    "  endfunction\n",
    "  function generator copy();\n",
    "  copy()=new();\n",
    "  copy.a=a;\n",
    "  copy.wr=wr;\n",
    "  copy.en=en;\n",
    "  copy.s=s;\n",
    "  endfunction\n",
    "endclass\n",
    "class generator_copy;\n",
    "generator g1;\n",
    "function generator_copy copy();\n",
    "copy=new();\n",
    "copy.g1=g1.copy;\n",
    "endfunction\n",
    "module tb;\n",
    "generator_copy gn1,gn2;\n",
    "initial begin\n",
    "gn1=new();\n",
    "gn2=new();\n",
    "gn1.g1.display();\n",
    "gn2=gn1.copy;\n",
    "gn2.g1.display();\n",
    "gn2,g1.a=1;\n",
    "gn2,g1.b=2;\n",
    "gn2,g1.wr=0;\n",
    "gn2,g1.en=1;\n",
    "gn2,g1.s=6;\n",
    "gn2.g1.display();\n",
    "end\n",
    "endmodule\n",
    "\n",
    "\n",
    "\n",
    "\n",
    "\n",
    "\n",
    "\n",
    "\n",
    "\n"
   ]
  },
  {
   "cell_type": "markdown",
   "id": "300a8f21",
   "metadata": {},
   "source": [
    "**Inheritence In Classes**"
   ]
  },
  {
   "cell_type": "markdown",
   "id": "80c56dc6",
   "metadata": {},
   "source": [
    "We Can  Extend A Class By Simply Using The Key Word Extend..No Need To Write Custom Methods Etc."
   ]
  },
  {
   "cell_type": "code",
   "execution_count": null,
   "id": "8bd4d180",
   "metadata": {
    "vscode": {
     "languageId": "plaintext"
    }
   },
   "outputs": [],
   "source": [
    "class generator;\n",
    "  \n",
    "  bit [3:0] a = 5,b =7;\n",
    "  bit wr = 1;\n",
    "  bit en = 1;\n",
    "  bit [4:0] s = 12;\n",
    "  \n",
    "  function void display();\n",
    "    $display(\"a:%0d b:%0d wr:%0b en:%0b s:%0d\", a,b,wr,en,s);\n",
    "  endfunction\n",
    "endclass\n",
    "class second extends generator;\n",
    "int temp=32;\n",
    "function void display();\n",
    "$display(\"temp=%0d\",temp);\n",
    "endfunction\n",
    "//Now We Can Access All Of Them Using second class\n",
    "module tb;\n",
    "second s1;\n",
    "initial begin\n",
    "s1=new();\n",
    "s1.display();\n",
    "s1.display();\n",
    "s1.temp=5;\n",
    "s1.display;\n",
    "s1.a=3;\n",
    "s1.b=1;\n",
    "s1.display();\n",
    "end \n",
    "endmodule\n",
    "\n"
   ]
  },
  {
   "cell_type": "markdown",
   "id": "d3ac35a0",
   "metadata": {},
   "source": [
    "**Polymorphism**"
   ]
  },
  {
   "cell_type": "markdown",
   "id": "5f3fbc04",
   "metadata": {},
   "source": [
    "If We Have Two Classes Like We Have In Inheritance And When We Have Same Methods In Them We Can Only Access The One That Was In The Parent And The Function In The Child Is Not Executed.\n",
    "\n",
    "To Solve This We Use Virtual Function ..Virtual Keyword It Means If There Any Modifications To The Existing Function In Parent Class It Will Execute The Modified One Otherwise The Parent One ..\n",
    " "
   ]
  },
  {
   "cell_type": "code",
   "execution_count": null,
   "id": "cdc1b3e7",
   "metadata": {
    "vscode": {
     "languageId": "plaintext"
    }
   },
   "outputs": [],
   "source": [
    "//Example Code For The Polymorphism\n",
    "class generator;\n",
    "  \n",
    "  bit [3:0] a = 5,b =7;\n",
    "  bit wr = 1;\n",
    "  bit en = 1;\n",
    "  bit [4:0] s = 12;\n",
    "  \n",
    "  virtual function void display(); //Here virtual keyword is used\n",
    "    $display(\"a:%0d b:%0d wr:%0b en:%0b s:%0d\", a,b,wr,en,s);\n",
    "  endfunction\n",
    "endclass\n",
    "class second extends generator;\n",
    "int temp=32;\n",
    "function void display();\n",
    "$display(\"temp=%0d\",temp);\n",
    "endfunction\n",
    "//Now We Can Access All Of Them Using second class\n",
    "module tb;\n",
    "second s1;\n",
    "initial begin\n",
    "s1=new();\n",
    "s1.display();\n",
    "s1.display();\n",
    "s1.temp=5;\n",
    "s1.display;\n",
    "s1.a=3;\n",
    "s1.b=1;\n",
    "s1.display();\n",
    "end \n",
    "endmodule\n",
    "\n"
   ]
  },
  {
   "cell_type": "code",
   "execution_count": null,
   "id": "d3a8a719",
   "metadata": {
    "vscode": {
     "languageId": "plaintext"
    }
   },
   "outputs": [],
   "source": [
    "class first;  ///parent class\n",
    "  int data = 12;\n",
    "  virtual function void display();\n",
    "     $display(\"FIRST : Value of data : %0d\", data);\n",
    "  endfunction\n",
    "endclass\n",
    "class second extends first; //child class\n",
    "  int temp = 34;\n",
    "  function void add();\n",
    "    $display(\"secomd:Value after process : %0d\", temp+4);\n",
    "  endfunction\n",
    "  function void display();\n",
    "    $display(\"SECOND : Value of data : %0d\", data);\n",
    "  endfunction\n",
    "endclass\n",
    "module tb;\n",
    "  first f;\n",
    "  second s;\n",
    "  initial begin\n",
    "    f = new();\n",
    "    s = new();\n",
    "    f = s;\n",
    "    f.display();\n",
    "  end\n",
    "endmodule"
   ]
  },
  {
   "cell_type": "markdown",
   "id": "ebe8de59",
   "metadata": {},
   "source": [
    "**Super Keyword**"
   ]
  },
  {
   "cell_type": "markdown",
   "id": "5b81e817",
   "metadata": {},
   "source": [
    "If We Have Custom Constructer In Both parent And Child We Have To Distinguish Them ...To Distiguish Them We Use Super Keyword..\n",
    "To Refer To The Parent Class We use Super Keyword."
   ]
  },
  {
   "cell_type": "code",
   "execution_count": null,
   "id": "4fc9190b",
   "metadata": {
    "vscode": {
     "languageId": "plaintext"
    }
   },
   "outputs": [],
   "source": [
    "class first; ////////////parent class\n",
    "  int data;\n",
    "  function new(input int data);\n",
    "    this.data = data;  \n",
    "  endfunction\n",
    "endclass\n",
    "class second extends first;\n",
    "  int temp;\n",
    "  function new(int data, int temp);\n",
    "    super.new(data);\n",
    "    this.temp = temp;\n",
    "  endfunction\n",
    "endclass\n",
    "module tb;\n",
    "  second s;\n",
    "  initial begin\n",
    "    s = new(67, 45);\n",
    "    $display(\"Value of data : %0d and Temp : %0d\", s.data, s.temp);\n",
    "  end\n",
    "endmodule"
   ]
  },
  {
   "cell_type": "markdown",
   "id": "60274b34",
   "metadata": {},
   "source": [
    "**Randomization**"
   ]
  },
  {
   "cell_type": "markdown",
   "id": "d5426d28",
   "metadata": {},
   "source": [
    "**What Is A Generator**"
   ]
  },
  {
   "cell_type": "markdown",
   "id": "83aeb9ee",
   "metadata": {},
   "source": [
    "We Use Randomization To Generate Random Signals In The Generator..\n",
    "***There Are Mainly Two Types Of Signals They Are Global And Control Signals And ***\n",
    "***Global Signals*** Are Addede In The TestBench Top Module ...Example:-clk,reset.\n",
    "***Control Signals*** Are Generated By The Generator .Example:WR,EN,CE,CS ...\n",
    "***Data Signals*** Are Generated By The Generator .Example:WRDATA,RDATA..\n"
   ]
  },
  {
   "cell_type": "markdown",
   "id": "ed4c5e7d",
   "metadata": {},
   "source": [
    "**Generating Random Values Using Pseudo Random Generator**"
   ]
  },
  {
   "cell_type": "markdown",
   "id": "0cb29772",
   "metadata": {},
   "source": [
    "We can generate random values using rand and randc...Here is a quick example of rand.."
   ]
  },
  {
   "cell_type": "markdown",
   "id": "1c4133c3",
   "metadata": {},
   "source": [
    "***Randomize*** Only Effects The Variable With Keyword \"rand\" ."
   ]
  },
  {
   "cell_type": "code",
   "execution_count": null,
   "id": "525835ba",
   "metadata": {
    "vscode": {
     "languageId": "plaintext"
    }
   },
   "outputs": [],
   "source": [
    "//Design Code\n",
    "module dut(\n",
    "input [3:0] a,b;\n",
    "output [3:0] y;\n",
    ");\n"
   ]
  },
  {
   "cell_type": "code",
   "execution_count": null,
   "id": "fc468872",
   "metadata": {
    "vscode": {
     "languageId": "plaintext"
    }
   },
   "outputs": [],
   "source": [
    "//Testbench \n",
    "class generator;\n",
    "rand bit [3:0] a,b;\n",
    "bit [3:0] y;\n",
    "endclass\n",
    "module tb;\n",
    "int i=0;\n",
    "generator g;\n",
    "initial begin\n",
    "g=new();\n",
    "for(i=0;i<11;i++)begin\n",
    "g.randomize(); \n",
    "$display(\"Value Of A=%0d and B=%0d\",g.a,g,b);\n",
    "end\n",
    "endmodule\n"
   ]
  },
  {
   "cell_type": "markdown",
   "id": "9e962310",
   "metadata": {},
   "source": [
    "**rand vs randc**"
   ]
  },
  {
   "cell_type": "markdown",
   "id": "472a6217",
   "metadata": {},
   "source": [
    "Rand can generate duplicate numbers whereas the randc only generates unique numbers .."
   ]
  },
  {
   "cell_type": "markdown",
   "id": "48a2b5af",
   "metadata": {},
   "source": [
    "**Checking randomization is successful**"
   ]
  },
  {
   "cell_type": "markdown",
   "id": "c75bb0d8",
   "metadata": {},
   "source": [
    "We Can Check Whether The Randomization Is Failed Or Not Using IF Else And Assert Methods ...\n",
    "By This Way We Can Check The Status Of The Randomization .."
   ]
  },
  {
   "cell_type": "code",
   "execution_count": null,
   "id": "59ae430f",
   "metadata": {
    "vscode": {
     "languageId": "plaintext"
    }
   },
   "outputs": [],
   "source": [
    "//if-else example\n",
    "//Testbench \n",
    "class generator;\n",
    "rand bit [3:0] a,b;\n",
    "bit [3:0] y;\n",
    "endclass\n",
    "module tb;\n",
    "int i=0;\n",
    "generator g;\n",
    "initial begin\n",
    "g=new();\n",
    "for(i=0;i<11;i++)begin\n",
    "g.randomize(); \n",
    "if(!g.randomize())begin\n",
    "    $display(\"The randomizatio faile at %0t\".$time);//see here \n",
    "    $finish\n",
    "    end\n",
    "\n",
    "$display(\"Value Of A=%0d and B=%0d\",g.a,g,b);\n",
    "end\n",
    "endmodule\n",
    " "
   ]
  },
  {
   "cell_type": "markdown",
   "id": "5eb09854",
   "metadata": {},
   "source": [
    "**Using Assert For Checking**"
   ]
  },
  {
   "cell_type": "markdown",
   "id": "99f1393b",
   "metadata": {},
   "source": [
    "We can use assert to check the randomization like the if-else"
   ]
  },
  {
   "cell_type": "code",
   "execution_count": null,
   "id": "7023e9c2",
   "metadata": {
    "vscode": {
     "languageId": "plaintext"
    }
   },
   "outputs": [],
   "source": [
    "//if-else example\n",
    "//Testbench \n",
    "class generator;\n",
    "rand bit [3:0] a,b;\n",
    "constraint data{a>15}; //Change this to see thhe Change\n",
    "bit [3:0] y;\n",
    "endclass\n",
    "module tb;\n",
    "int i=0;\n",
    "generator g;\n",
    "initial begin\n",
    "g=new();\n",
    "for(i=0;i<11;i++)begin\n",
    "g.randomize(); \n",
    " assert(g.randomize)else\n",
    "begin\n",
    "    $display(\"The randomizatio faile at %0t\".$time);//see here \n",
    "    $finish\n",
    "end\n",
    "$display(\"Value Of A=%0d and B=%0d\",g.a,g,b);\n",
    "end\n",
    "endmodule"
   ]
  },
  {
   "cell_type": "markdown",
   "id": "ff3fccd6",
   "metadata": {},
   "source": [
    "***Check While Choosing The Delay***"
   ]
  },
  {
   "cell_type": "code",
   "execution_count": null,
   "id": "aaa9e4f9",
   "metadata": {
    "vscode": {
     "languageId": "plaintext"
    }
   },
   "outputs": [],
   "source": [
    "//Testbench \n",
    "class generator;\n",
    "rand bit [3:0] a,b;\n",
    "bit [3:0] y;\n",
    "endclass\n",
    "module tb;\n",
    "int i=0;\n",
    "generator g;\n",
    "initial begin\n",
    "for(i=0;i<11;i++)begin\n",
    "g=new();\n",
    "g.randomize(); \n",
    "$display(\"Value Of A=%0d and B=%0d\",g.a,g,b);\n",
    "#10;//This Is the time period for the signal to travel upto checker..\n",
    "end\n",
    "endmodule\n"
   ]
  },
  {
   "cell_type": "markdown",
   "id": "0619ca4a",
   "metadata": {},
   "source": [
    "**Using Constraints In Class -Internal Contraint** "
   ]
  },
  {
   "cell_type": "code",
   "execution_count": null,
   "id": "48d2bbd7",
   "metadata": {
    "vscode": {
     "languageId": "plaintext"
    }
   },
   "outputs": [],
   "source": [
    "which is created inside the class is called internal constraint."
   ]
  },
  {
   "cell_type": "code",
   "execution_count": null,
   "id": "27c9c86c",
   "metadata": {
    "vscode": {
     "languageId": "plaintext"
    }
   },
   "outputs": [],
   "source": [
    "//Testbench \n",
    "class generator;\n",
    "rand bit [3:0] a,b;\n",
    "bit [3:0] y;\n",
    "constraint data_a{a>4;a<89};\n",
    "constraint data_a{b>0;b<19};\n",
    "//we can place the same as\n",
    "constraint data{a>4;a<49;b>0;b<19};\n",
    "endclass\n",
    "module tb;\n",
    "int i=0;\n",
    "generator g;\n",
    "initial begin\n",
    "for(i=0;i<11;i++)begin\n",
    "g=new();\n",
    "g.randomize(); \n",
    "$display(\"Value Of A=%0d and B=%0d\",g.a,g,b);\n",
    "#10;//This Is the time period for the signal to travel upto checker..\n",
    "end\n",
    "endmodule\n"
   ]
  },
  {
   "cell_type": "markdown",
   "id": "159354aa",
   "metadata": {},
   "source": [
    "**Using Range In Constraint**"
   ]
  },
  {
   "cell_type": "markdown",
   "id": "51191002",
   "metadata": {},
   "source": [
    "We can use the keyword \"inside\" and assign range with [] seperated by {} ....\n",
    "Check Below code.."
   ]
  },
  {
   "cell_type": "code",
   "execution_count": null,
   "id": "891d2339",
   "metadata": {
    "vscode": {
     "languageId": "plaintext"
    }
   },
   "outputs": [],
   "source": [
    "//Testbench \n",
    "class generator;\n",
    "rand bit [3:0] a,b;\n",
    "bit [3:0] y;\n",
    "//we can place the same as\n",
    "constraint data{\n",
    "    a inside{[1:10],[32:37]};//like this we can generate the range \n",
    "b inside {[2:5],[9:11]}\n",
    "};\n",
    "endclass\n",
    "module tb;\n",
    "int i=0;\n",
    "generator g;\n",
    "initial begin\n",
    "for(i=0;i<11;i++)begin\n",
    "g=new();\n",
    "g.randomize(); \n",
    "$display(\"Value Of A=%0d and B=%0d\",g.a,g,b);\n",
    "#10;//This Is the time period for the signal to travel upto checker..\n",
    "end\n",
    "endmodule\n"
   ]
  },
  {
   "cell_type": "markdown",
   "id": "65f2951c",
   "metadata": {},
   "source": [
    "**Skipping The Values Using Range**"
   ]
  },
  {
   "cell_type": "markdown",
   "id": "1ffe661a",
   "metadata": {},
   "source": [
    "We can do that by just placing an not operator before the a inside statements."
   ]
  },
  {
   "cell_type": "code",
   "execution_count": null,
   "id": "4aa1f03b",
   "metadata": {
    "vscode": {
     "languageId": "plaintext"
    }
   },
   "outputs": [],
   "source": [
    "//Skipping Values\n",
    "class generator;\n",
    "rand bit [3:0] a,b;\n",
    "bit [3:0] y;\n",
    "//we can place the same as\n",
    "constraint data{\n",
    "    !(a inside{[1:10],[32:37]});//like this we can generate the range \n",
    "    !(b inside {[2:5],[9:11]})\n",
    "};\n",
    "endclass\n",
    "module tb;\n",
    "int i=0;\n",
    "generator g;\n",
    "initial begin\n",
    "for(i=0;i<11;i++)begin\n",
    "g=new();\n",
    "g.randomize(); \n",
    "$display(\"Value Of A=%0d and B=%0d\",g.a,g,b);\n",
    "#10;//This Is the time period for the signal to travel upto checker..\n",
    "end\n",
    "endmodule\n"
   ]
  },
  {
   "cell_type": "markdown",
   "id": "db6660a2",
   "metadata": {},
   "source": [
    "**We Can Create External Constraints Using Extern Keyword**"
   ]
  },
  {
   "cell_type": "markdown",
   "id": "b0ce87b7",
   "metadata": {},
   "source": [
    "We can create external constraints using the extern keyword and we can also create function that was outside the class also."
   ]
  },
  {
   "cell_type": "markdown",
   "id": "3e548956",
   "metadata": {},
   "source": [
    "//External Constraints \n",
    "class generator;\n",
    "rand bit [3:0] a,b;\n",
    "bit [3:0] y;\n",
    "extern constraint data;\n",
    "extern function void display();//Function To Display The Values\n",
    "endclass\n",
    "constrain generator::data{\n",
    "    !(a inside{[1:10],[32:37]});//like this we can generate the range \n",
    "    !(b inside {[2:5],[9:11]})\n",
    "\n",
    "};\n",
    "function void generator::display{ //Here Creating the display with ::\n",
    "    $display(\"Value Of A=%0d and B=%0d\",g.a,g,b);\n",
    "\n",
    "};\n",
    "module tb;\n",
    "int i=0;\n",
    "generator g;\n",
    "initial begin\n",
    "for(i=0;i<11;i++)begin\n",
    "g=new();\n",
    "g.randomize(); \n",
    "$display(\"Value Of A=%0d and B=%0d\",g.a,g,b);\n",
    "#10;//This Is the time period for the signal to travel upto checker..\n",
    "end\n",
    "endmodule\n"
   ]
  },
  {
   "cell_type": "markdown",
   "id": "b6074837",
   "metadata": {},
   "source": [
    "**pre_randomize and post_randomize**"
   ]
  },
  {
   "cell_type": "markdown",
   "id": "0daa00c1",
   "metadata": {},
   "source": [
    "These are the inbuilt functions in system verilog as they are called automatically when we use randomize function..."
   ]
  },
  {
   "cell_type": "code",
   "execution_count": null,
   "id": "438158bc",
   "metadata": {
    "vscode": {
     "languageId": "plaintext"
    }
   },
   "outputs": [],
   "source": [
    "//pre_randomize and post_randomize\n",
    "\n",
    "class generator;\n",
    "rand bit [3:0] a,b;\n",
    "bit [3:0] y;\n",
    "int max,min;\n",
    "function void pre_randomize(input int min,input int max);   \n",
    "this.min=min;\n",
    "this.max=max;\n",
    "endfunction\n",
    "constraint data{\n",
    "    a inside{[min:max]};\n",
    "    b inside{[min:max]};\n",
    "};\n",
    "function void post_randomize();\n",
    "$display(\"Value Of A=%0d and B=%0d\",g.a,g,b);\n",
    "endfunction\n",
    "endclass\n",
    "module tb;\n",
    "int i=0;\n",
    "generator g;\n",
    "initial begin\n",
    "for(i=0;i<11;i++)begin\n",
    "g=new();\n",
    "g.pre_randomize(5,98);//just giving as the default values are 0.\n",
    "g.randomize(); \n",
    "\n",
    "//This Is the time period for the signal to travel upto checker..\n",
    "end\n",
    "endmodule\n"
   ]
  },
  {
   "cell_type": "markdown",
   "id": "1f1e5249",
   "metadata": {},
   "source": [
    "**what is randc bucket?**"
   ]
  },
  {
   "cell_type": "markdown",
   "id": "48ec0741",
   "metadata": {},
   "source": [
    "When we use constraints in randc it will create a bucket with possible outcomes ..Butt ***When you change the constraint in runtime we will see the repeated value in the output***.So for that we cannot change constraints in runtime."
   ]
  },
  {
   "cell_type": "code",
   "execution_count": null,
   "id": "1e5beb19",
   "metadata": {
    "vscode": {
     "languageId": "plaintext"
    }
   },
   "outputs": [],
   "source": [
    "//randc bucket\n",
    "class generator;\n",
    "  \n",
    "  randc bit [3:0] a,b; \n",
    "  bit [3:0] y;\n",
    "  \n",
    "  int min;\n",
    "  int max;\n",
    "  \n",
    "  function void pre_randomize(input int min, input int max);\n",
    "  this.min = min;\n",
    "  this.max = max;  \n",
    "  endfunction\n",
    "  constraint data {\n",
    "    a inside {[min:max]};\n",
    "    b inside {[min:max]};\n",
    "  }\n",
    "  function void post_randomize();\n",
    "    $display(\"Value of a :%0d and b: %0d\", a,b);\n",
    "  endfunction\n",
    "endclass\n",
    "\n",
    "module tb;\n",
    "  int i =0;\n",
    "  generator g;\n",
    "  initial begin\n",
    "   g = new();\n",
    "$display(\"SPACE 1\");\n",
    "    g.pre_randomize(3,12);\n",
    "    for(i = 0; i<6;i++)begin\n",
    "      g.randomize();\n",
    "      #10;\n",
    "    end\n",
    "    $display(\"SPACE 2\");\n",
    "    g.pre_randomize(3,12);//3 4 5 6 7 8 9 10 11 12\n",
    "     for(i = 0; i<6;i++)begin\n",
    "      g.randomize();\n",
    "      #10;\n",
    "    end\n",
    "    \n",
    "    \n",
    "  end\n",
    "  \n",
    "  \n",
    "endmodule"
   ]
  }
 ],
 "metadata": {
  "language_info": {
   "name": "python"
  }
 },
 "nbformat": 4,
 "nbformat_minor": 5
}
