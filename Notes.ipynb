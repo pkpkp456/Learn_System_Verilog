{
 "cells": [
  {
   "cell_type": "markdown",
   "id": "97f5a979",
   "metadata": {},
   "source": [
    "**Functions In SV**"
   ]
  },
  {
   "cell_type": "code",
   "execution_count": null,
   "id": "f135c607",
   "metadata": {
    "vscode": {
     "languageId": "plaintext"
    }
   },
   "outputs": [],
   "source": [
    "// Code your testbench here\n",
    "// or browse Examplesmo\n",
    "module tb;\n",
    "  function bit[5:0] add(input bit [4:0] a,b);\n",
    "    return a+b;\n",
    "    endfunction\n",
    "    bit [5:0] hiii;\n",
    "    initial begin\n",
    "      hiii =add(5'b00010,5'b00110);\n",
    "      $display(\"Values is =%0d\",hiii);\n",
    "    end\n",
    "    endmodule"
   ]
  },
  {
   "cell_type": "markdown",
   "id": "e479de0d",
   "metadata": {},
   "source": [
    "We Can Create Functions As We Did in the C..It Follows The Same Syntax \n",
    "\n",
    "This is the way we can create functions...we can do it with or without arguements and everything is just like that only ..\n",
    "we can also use display and other commands also in creating them...it can be easily called as in c.\n",
    "Timing Functions Are Not Allowded...    "
   ]
  },
  {
   "cell_type": "markdown",
   "id": "86324de9",
   "metadata": {},
   "source": [
    "**Tasks In SV**"
   ]
  },
  {
   "cell_type": "markdown",
   "id": "0493d837",
   "metadata": {},
   "source": [
    "The Tasks Have The Additional Future Of Timing Control...\n",
    "It is Widely used i  Testbench as we can wait for something to happen...we can build logic in there also .."
   ]
  },
  {
   "cell_type": "markdown",
   "id": "0502177f",
   "metadata": {},
   "source": [
    "Sequential elements are also used very well in here ...\n",
    "And We Can use $urandom() Function to generate random values and we can test the dut...\n",
    "$urandom_range(x,y);"
   ]
  },
  {
   "cell_type": "code",
   "execution_count": null,
   "id": "fc3e810c",
   "metadata": {
    "vscode": {
     "languageId": "markdown"
    }
   },
   "outputs": [],
   "source": [
    "We can Pass the values in two ways one is pass by value and other is pass by reference"
   ]
  },
  {
   "cell_type": "markdown",
   "id": "5691245f",
   "metadata": {},
   "source": [
    "**Pass By Value**"
   ]
  },
  {
   "cell_type": "markdown",
   "id": "b6143147",
   "metadata": {},
   "source": [
    "It doesn't change the original variables characteristics..\n",
    "It creates a local copy of the arguement."
   ]
  },
  {
   "cell_type": "markdown",
   "id": "c9584dd6",
   "metadata": {},
   "source": [
    "**Pass By Reference**"
   ]
  },
  {
   "cell_type": "markdown",
   "id": "eb512cc2",
   "metadata": {},
   "source": [
    "It will change the original values...\n",
    "\n",
    "In arrays we use this one...\n",
    "For Changine we use ref array[];(Changed by processeding)\n",
    "but constant after updating also we use const ref array[];(Never changed by anything)\n"
   ]
  }
 ],
 "metadata": {
  "language_info": {
   "name": "python"
  }
 },
 "nbformat": 4,
 "nbformat_minor": 5
}
